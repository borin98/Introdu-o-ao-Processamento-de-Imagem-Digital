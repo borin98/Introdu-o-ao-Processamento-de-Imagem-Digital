{
 "cells": [
  {
   "cell_type": "code",
   "execution_count": 14,
   "metadata": {
    "collapsed": true,
    "pycharm": {
     "name": "#%%\n"
    }
   },
   "outputs": [
    {
     "name": "stdout",
     "output_type": "stream",
     "text": [
      "2\n",
      "2\n"
     ]
    }
   ],
   "source": [
    "# Questão 1\n",
    "# Usado como referência da questão do exercício https://stackoverflow.com/questions/47750593/finding-false-true-transitions-in-a-numpy-array\n",
    "import numpy as np\n",
    "\n",
    "x = np.array([False, True, False, False, True])\n",
    "transition_x = (x[:-1] < x[1:])\n",
    "\n",
    "# Resposta\n",
    "print(transition_x.sum())\n",
    "\n",
    "# De forma alternativa\n",
    "print(np.count_nonzero(transition_x))"
   ]
  },
  {
   "cell_type": "code",
   "execution_count": 15,
   "outputs": [
    {
     "name": "stdout",
     "output_type": "stream",
     "text": [
      "[1 9]\n",
      "[1 9]\n"
     ]
    }
   ],
   "source": [
    "#Questão 2\n",
    "x = np.array([1, 2, 3, 4])\n",
    "# respostax =\n",
    "odd_x = x[x % 2 != 0] ** 2\n",
    "print(odd_x)\n",
    "\n",
    "# De forma alternativa\n",
    "odd_x = np.power(x[x % 2 != 0], 2)\n",
    "print(odd_x)"
   ],
   "metadata": {
    "collapsed": false,
    "pycharm": {
     "name": "#%%\n"
    }
   }
  },
  {
   "cell_type": "code",
   "execution_count": 16,
   "outputs": [
    {
     "name": "stdout",
     "output_type": "stream",
     "text": [
      "40\n"
     ]
    }
   ],
   "source": [
    "# Questão 3\n",
    "x = np.array([1, 5, 12, 15, 20, 22])\n",
    "sum_solution = x[x % 5 == 0].sum()\n",
    "\n",
    "# Resolução))\n",
    "print(sum_solution)"
   ],
   "metadata": {
    "collapsed": false,
    "pycharm": {
     "name": "#%%\n"
    }
   }
  },
  {
   "cell_type": "code",
   "execution_count": 30,
   "outputs": [
    {
     "name": "stdout",
     "output_type": "stream",
     "text": [
      "[10 26 42]\n"
     ]
    }
   ],
   "source": [
    "# Questão 4 - Preciso terminar ainda)\n",
    "n = 4\n",
    "x = np.array([1, 2, 3, 4, 5, 6, 7, 8, 9, 10, 11, 12], dtype=np.uint8)\n",
    "resp = np.add.reduceat(x, np.arange(0, x.shape[0], n))\n",
    "print(resp)\n",
    "\n",
    "# Ou de forma alternativa\n",
    "# Neste caso, o -1 é um coringa para fixar a linha da divisão x.len/n\n",
    "resp = x.reshape((-1, n)).sum(1)\n",
    "print(resp)"
   ],
   "metadata": {
    "collapsed": false,
    "pycharm": {
     "name": "#%%\n"
    }
   }
  },
  {
   "cell_type": "code",
   "execution_count": 18,
   "outputs": [
    {
     "name": "stdout",
     "output_type": "stream",
     "text": [
      "[0 0 0 0 1 2 3]\n"
     ]
    }
   ],
   "source": [
    "# Questão 5\n",
    "x = np.array([-3, -2, -1, 0, 1, 2, 3])\n",
    "x[x < 0] = 0\n",
    "print(x)"
   ],
   "metadata": {
    "collapsed": false,
    "pycharm": {
     "name": "#%%\n"
    }
   }
  },
  {
   "cell_type": "code",
   "execution_count": 19,
   "outputs": [
    {
     "name": "stdout",
     "output_type": "stream",
     "text": [
      "3\n"
     ]
    }
   ],
   "source": [
    "# Questão 6\n",
    "x = np.array([1, 2, 3, 4, 5, 6, 7])\n",
    "even_n = x[x % 2 == 0].shape[0]\n",
    "print(even_n)"
   ],
   "metadata": {
    "collapsed": false,
    "pycharm": {
     "name": "#%%\n"
    }
   }
  },
  {
   "cell_type": "code",
   "execution_count": null,
   "outputs": [],
   "source": [],
   "metadata": {
    "collapsed": false,
    "pycharm": {
     "name": "#%%\n"
    }
   }
  }
 ],
 "metadata": {
  "kernelspec": {
   "display_name": "Python 3",
   "language": "python",
   "name": "python3"
  },
  "language_info": {
   "codemirror_mode": {
    "name": "ipython",
    "version": 2
   },
   "file_extension": ".py",
   "mimetype": "text/x-python",
   "name": "python",
   "nbconvert_exporter": "python",
   "pygments_lexer": "ipython2",
   "version": "2.7.6"
  }
 },
 "nbformat": 4,
 "nbformat_minor": 0
}