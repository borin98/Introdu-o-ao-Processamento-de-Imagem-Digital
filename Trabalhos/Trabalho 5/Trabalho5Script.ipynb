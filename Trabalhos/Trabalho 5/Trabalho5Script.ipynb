{
 "cells": [
  {
   "cell_type": "code",
   "execution_count": 1,
   "metadata": {
    "collapsed": true
   },
   "outputs": [],
   "source": [
    "# https://www.geeksforgeeks.org/python-how-to-make-a-terminal-progress-bar-using-tqdm/#:~:text=Usage,would%20not%20work%20at%20all.\n",
    "\n",
    "import cv2\n",
    "import numpy as np\n",
    "import matplotlib.pyplot as plt\n",
    "\n",
    "from tqdm import tqdm\n",
    "\n",
    "\n",
    "def create_video_capture() -> dict[int, np.ndarray]:\n",
    "    # define a video capture object\n",
    "    vid = cv2.VideoCapture(0)\n",
    "    video_dict = {}\n",
    "    i = 0\n",
    "\n",
    "    while (True):\n",
    "\n",
    "        # Capture the video frame\n",
    "        # by frame\n",
    "        ret, frame = vid.read()\n",
    "        video_dict[i] = frame\n",
    "        i += 1\n",
    "        # Display the resulting frame\n",
    "        cv2.imshow('frame', frame)\n",
    "\n",
    "        # the 'q' button is set as the\n",
    "        # quitting button you may use any\n",
    "        # desired button of your choice\n",
    "        if cv2.waitKey(1) & 0xFF == ord('q'):\n",
    "            break\n",
    "\n",
    "    # After the loop release the cap object\n",
    "    vid.release()\n",
    "    # Destroy all the windows\n",
    "    cv2.destroyAllWindows()\n",
    "    return video_dict\n",
    "\n",
    "\n",
    "def convert_to_gray_imgs(dict_imgs: dict[int, np.ndarray]) -> None:\n",
    "    for key, img in tqdm(dict_imgs.items()):\n",
    "        dict_imgs[key] = cv2.cvtColor(img, cv2.COLOR_BGR2GRAY)\n",
    "\n",
    "\n",
    "# https://docs.opencv.org/4.x/d4/d13/tutorial_py_filtering.html\n",
    "# https://docs.opencv.org/4.x/d4/d86/group__imgproc__filter.html#gaabe8c836e97159a9193fb0b11ac52cf1\n",
    "def apply_gaussian_blur(dict_imgs: dict[int, np.ndarray], k_size: tuple[int, int] = (3, 3), sigma_x: int = 0,\n",
    "                        sigma_y: int = 0) -> None:\n",
    "    for key, img in tqdm(dict_imgs.items()):\n",
    "        dict_imgs[key] = cv2.GaussianBlur(img, k_size, sigma_x, sigma_y)"
   ]
  },
  {
   "cell_type": "code",
   "execution_count": 2,
   "outputs": [
    {
     "name": "stderr",
     "output_type": "stream",
     "text": [
      "100%|██████████| 25/25 [00:00<00:00, 1193.87it/s]\n",
      "100%|██████████| 25/25 [00:00<00:00, 9758.73it/s]\n"
     ]
    }
   ],
   "source": [
    "dict_val = create_video_capture()\n",
    "convert_to_gray_imgs(dict_val)\n",
    "apply_gaussian_blur(dict_val)"
   ],
   "metadata": {
    "collapsed": false
   }
  },
  {
   "cell_type": "code",
   "execution_count": 3,
   "outputs": [
    {
     "name": "stdout",
     "output_type": "stream",
     "text": [
      "img shape : (480, 640)\n",
      "img shape : (480, 640)\n",
      "img shape : (480, 640)\n",
      "img shape : (480, 640)\n",
      "img shape : (480, 640)\n",
      "img shape : (480, 640)\n",
      "img shape : (480, 640)\n",
      "img shape : (480, 640)\n",
      "img shape : (480, 640)\n",
      "img shape : (480, 640)\n"
     ]
    }
   ],
   "source": [
    "# https://www.geeksforgeeks.org/python-create-video-using-multiple-images-using-opencv/\n",
    "# https://theailearner.com/2018/10/15/creating-video-from-images-using-opencv-python/\n",
    "for i in range(0, 10):\n",
    "    print(\"img shape : {}\".format(dict_val[i].shape))\n",
    "    plt.imshow(dict_val[i], cmap=\"gray\", vmin=dict_val[i].min(), vmax=dict_val[i].max())\n",
    "    plt.axis(\"off\")\n",
    "    plt.show()"
   ],
   "metadata": {
    "collapsed": false
   }
  },
  {
   "cell_type": "code",
   "execution_count": 3,
   "outputs": [],
   "source": [],
   "metadata": {
    "collapsed": false
   }
  }
 ],
 "metadata": {
  "kernelspec": {
   "display_name": "Python 3",
   "language": "python",
   "name": "python3"
  },
  "language_info": {
   "codemirror_mode": {
    "name": "ipython",
    "version": 2
   },
   "file_extension": ".py",
   "mimetype": "text/x-python",
   "name": "python",
   "nbconvert_exporter": "python",
   "pygments_lexer": "ipython2",
   "version": "2.7.6"
  }
 },
 "nbformat": 4,
 "nbformat_minor": 0
}
