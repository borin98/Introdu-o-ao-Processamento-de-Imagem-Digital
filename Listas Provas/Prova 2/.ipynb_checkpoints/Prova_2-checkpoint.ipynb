{
 "cells": [
  {
   "cell_type": "markdown",
   "metadata": {},
   "source": [
    "# Lista de exercício para a prova 2\n",
    "\n",
    "Este _notebook_ contém a resolução da lista 2 para a prova 2"
   ]
  },
  {
   "cell_type": "markdown",
   "metadata": {},
   "source": [
    "## Questão 1\n",
    "\n",
    "Abaixo, é possível visualizar a resposta\n",
    "\n",
    "![Imagem respsta p1](ImagensRespostas/Resposta_1.jpg)"
   ]
  },
  {
   "cell_type": "markdown",
   "metadata": {},
   "source": [
    "## Questão 2\n",
    "\n",
    "Sabemos que a represão _quadtree_ é muito sensível à **rotação e translação**. Dessa forma, podemos separar da seguinte forma a nossa resposta\n",
    "\n",
    "* Mudança de escala : Praticamente **a representação _quadtree_ continua a mesma**, mesmo que esteja sussetível à pequenas mudanças devido a perda de detalhamento da imagem (Impacto no _grid_ das regiões).\n",
    "* Mudança de rotação e translação : A **representação vai mudar completamente**, pois a _quadree_ é muito sensível à esse tipo de mudança"
   ]
  },
  {
   "cell_type": "markdown",
   "metadata": {},
   "source": [
    "## Questão 3\n",
    "\n",
    "#### Item A)\n",
    "\n",
    "Sabemos que a forma da entropia é descrita sendo\n",
    "\n",
    "$$\n",
    "E = \\sum_{i=o}^{n}p_{i}\\log_{2}{p_{i}}\n",
    "$$\n",
    "\n",
    "Dessa forma, temos que a entropia será\n",
    "\n",
    "![Resposta 2a](ImagensRespostas/Resposta_2a.jpg)"
   ]
  },
  {
   "cell_type": "markdown",
   "metadata": {},
   "source": [
    "### Item B)\n",
    "\n",
    "Temos que a representação utilizando a decodificação de _Huffman_ será da forma\n",
    "\n",
    "![Resposta 2a](ImagensRespostas/Resposta_2b.jpg)\n"
   ]
  },
  {
   "cell_type": "markdown",
   "metadata": {},
   "source": [
    "## Questão 4\n",
    "\n",
    "Abaixo, é possível visualizar duas formas\n",
    "\n",
    "![Resposta 3A](ImagensRespostas/Resposta_3a.jpg)\n",
    "![Resposta 3B](ImagensRespostas/Resposta_3b.jpg)"
   ]
  },
  {
   "cell_type": "markdown",
   "metadata": {},
   "source": [
    "## Questão 6\n",
    "\n",
    "* Modelos aditivos : São modelos onde a cor é gerada pela combinação de vários comprimentos de ondas luminosas (XYZ, RGB, HSV, HLS, ...)\n",
    "* Modelos subtrativos : São modelos onde a cor preta é produzido pela combinação das cores primárias ciano, magenta e amarelo (CMY e CMYK)."
   ]
  },
  {
   "cell_type": "markdown",
   "metadata": {},
   "source": [
    "## Questão 7\n",
    "\n",
    "As vantagens destes métodos são as seguintes :\n",
    "\n",
    "* Tano a codificação quanto a decodificação são simples\n",
    "* Os valores de símbolos são codificados em um único intervalo $[0, 1)$\n",
    "* O método possui alta precisão e é um código sem perdas\n",
    "\n",
    "*OBS* : A desvantagem do método é que ele necessita guardar as porcentagens de todas as operações para realizar a descompressão. Com isso, deixando o método caro se possuir muitos símbolos para realizar a descompressão."
   ]
  },
  {
   "cell_type": "markdown",
   "metadata": {},
   "source": [
    "## Questão 8\n",
    "\n",
    "Podemos separar em 3 categorias :\n",
    "\n",
    "### Redundância de codificação\n",
    "\n",
    "* Mesma informação (ou símbolo) representada repetidas vezes\n",
    "* Em geral, a redundância de codificação está presente quando os códigos atribuídos a um conjunto de eventos (tal como os níveis de cinza da imagem) não foram escolhidos de forma que explora as probabilidades dos eventos\n",
    "\n",
    "### Redundância interpixel\n",
    "\n",
    "* Explora a característica de que pixels vizinhos em uma imagem possuem alguma relação ou similaridade\n",
    "* Contribuição visual de um único pixel é redundante (ela poderia ser prevista com base nos valores dos pixels adjacentes)\n",
    "\n",
    "\n",
    "### Redundância psicovisual\n",
    "\n",
    "* Há informações psicovisualmente redundantes (possuem menor importância relativa que outras no processamento visual e podem ser eliminadas sem prejudicar significativamente a percepção da imagem)\n",
    "* A redundância infere que dados presentes na imagem seriam eliminados de forma irreversível!"
   ]
  },
  {
   "cell_type": "markdown",
   "metadata": {},
   "source": [
    "## Questão 9\n",
    "\n",
    "### Vantagens\n",
    "\n",
    "* Custo computacional menor para blocos de tamanho 8x8 para realizar operações como a transformada DCT\n",
    "* Aplicar a transformada na imagem inteira não é ideal devido ao conteúdo não uniforme da imagem\n",
    "* Geralmente é o tamanho ideal para a compressão da imagem. Tanto que é o valor _default_ do jpeg\n",
    "* Esse valor na prática, é o equilíbrio em qualidade e precisão.\n",
    "\n",
    "### Desvantagens\n",
    "\n",
    "* Imagem resultante terá tamanho maior do que se utilizados blocos maiores\n",
    "* Matrizes menores que 8x8 não possuem informação suficiente e relevante para a compressão\n",
    "* Utilizar blocos menores pode causar mais artefatos na imagem"
   ]
  },
  {
   "cell_type": "markdown",
   "metadata": {},
   "source": [
    "## Questão 10\n",
    "\n",
    "A ordenação zigue-zague dos coeficientes DCT tem o objetivo de **facilitar a etapa de codificação por entropia**.\n",
    "\n",
    "Em geral, é mais intuitivo que pixels em um bloco tenham mais em comum do que pixels em uma linha. Ou seja, os pixels serão agrupados na ordenação **de forma a terem mais características em comum**, permitindo que a compressão seja mais bem-sucedida devido a redundância interpixel.\n",
    "\n",
    "Em outras palavras, então temos que no zig-zag contém maiores chances de pegar valores que são diferentes de zero."
   ]
  },
  {
   "cell_type": "markdown",
   "metadata": {},
   "source": [
    "## Questão 11\n",
    "\n",
    "Ambos os métodos partem da redundância psicovisual, a qual justifica as perdas durante a compressão. Assim, vamos separar em dois métodos.\n",
    "\n",
    "### Modulação Delta\n",
    "\n",
    " o preditor supõe que o pixel atual seja igual ao anterior e, para cada pixel, retorna apenas a diferença entre este pixel e o anterior.\n",
    "\n",
    "Na prática, este método recebe uma constante $\\delta$ que é o módulo máximo de diferença entre os pixels adjacentes. Assim, temos que a diferença será $+ \\delta$ se a diferença for positiva e $- \\delta$ caso contrário\n",
    "\n",
    "\n",
    "### Modulação de Código de Pulso Diferencial\n",
    "\n",
    "O preditor supõe que o valor de um pixel depende de uma combinação linear de $m$ pixels anteriores e que o erro de quantização seja desprezível. O objetivo é minimizar o erro médio quadrático da predição do codificador.\n"
   ]
  },
  {
   "cell_type": "markdown",
   "metadata": {},
   "source": [
    "## Questão 12\n",
    "\n",
    "As técnicas preditivas de compressão são técnicas que envolvem uma etapa anterior à codificação dos símbolos, que explora a redundância interpixel na imagem.\n",
    "\n",
    "Desta forma, o princípio das técnicas preditivas é que é mais econômico guardar a diferença entre os pixels do que a intensidade dos pixels.\n",
    "\n",
    "Então, em uma compressão sem perda, você armazena todas as diferenças e recupera a imagem perfeitamente. já na compressão com perdas, você estabelece limites para armazenar a informação. Por exemplo, uma das possíveis abordagens é realizar a diferença entre os pixels e se a diferença for menor que um valor X, não vale a pena armazenar isso e eles serão iguais, por isso este método apresenta erros.\n",
    "\n",
    "Outro exemplo é a compressão delta : se o erro for maior que X, colocamos um delta fixo e não armazenamos exatamente o erro, mas armazenamos esse delta.\n"
   ]
  },
  {
   "cell_type": "markdown",
   "metadata": {},
   "source": [
    "## Questão 13\n",
    "\n",
    "A resposta será\n",
    "\n",
    "![Resposta 13](ImagensRespostas/Resposta_13.jpg)"
   ]
  },
  {
   "cell_type": "markdown",
   "metadata": {},
   "source": [
    "## Questão 14\n",
    "\n",
    "A utilização do _LBP_ reduz significativamente o número de entradas do aspect de textura do pixel em uma janela 3x3, pois limita o valor entre 0 à 255. Simplificando ainda mais o problema. Além disso, o LBP é descrito da seguinte forma\n",
    "\n",
    "$$\n",
    "\\text{LBP} = \\sum^{8}_{i=1}2^{i - 1}e_{i}\n",
    "$$\n",
    "\n",
    "onde $e_{i} = 1$, se a a diferença com o pixel centrar for maior ou igual a zero e $0$ caso contrário."
   ]
  },
  {
   "cell_type": "markdown",
   "metadata": {},
   "source": [
    "## Questão 15\n",
    "\n",
    "Os valores armazenados são relativos a intensidade de cor entre os pixels. Portanto, o seu valor **não sofre modificação desde que as relaçoes entre as cores permaneçam a mesma**.\n",
    "\n",
    "Essa característica é vantajosa pois permite a extração de características morfológicas da imagem sem que seja necessário quantifica-lá em relação às cores."
   ]
  },
  {
   "cell_type": "markdown",
   "metadata": {},
   "source": [
    "## Questão 16\n",
    "\n",
    "Inicialmente, vamos demonstrar um exemplo com algumas anotações que motivam o método da correlação\n",
    "\n",
    "![Imagem exemplo](ImagensRespostas/Resposta_16a.jpg)\n",
    "\n",
    "Assim, temos as dos itens sendo\n",
    "\n",
    "![Imagem exemplo](ImagensRespostas/Resposta_16b.jpg)"
   ]
  },
  {
   "cell_type": "markdown",
   "metadata": {},
   "source": [
    "## Pré-questão 17 até questão 19\n",
    "\n",
    "Para esta parte, será apresentado alguns conceitos básicos para exemplificação de alguns operadores de registro de imagens\n",
    "\n",
    "<p float=\"left\">\n",
    "<img alt=\"Primeira imagem de resposta\" height=\"640\" src=\"ImagensRespostas/Resposta_175a.jpg\" width=\"480\"/> \n",
    "<img alt=\"Segunda imagem de resposta\" height=\"640\" src=\"ImagensRespostas/Resposta_175b.jpg\" width=\"480\"/>\n",
    "</p>"
   ]
  },
  {
   "cell_type": "markdown",
   "metadata": {},
   "source": [
    "## Questão 20\n",
    "\n",
    "A transformada afim traduz transformações projetivas de coordenadas, permitindo a transformação de diversos pontos de uma mesma figura para uma determinada perspectiva através de uma matriz $M$.\n",
    "\n",
    "**Desta forma, as transformações afins generalizam as transformações de rotação, translação, escala, reflexão e cisalhamento**. Elas preservam o paralelismo entre retas e planos, mas **não preservam comprimentos, distâncias e áreas**.\n"
   ]
  },
  {
   "cell_type": "markdown",
   "metadata": {},
   "source": [
    "## Questão 21\n",
    "\n",
    "A transformação ortográfica realiza o mapeamento de pontos tridimensionais sobre o plano da imagem, tal que os pontos são projetados ao longo de linhas paralelas na imagem.\n",
    "\n",
    "Já a projeção perspectiva, apesar de também realizar transformação de pontos tridimensionais, altera o tamanho dos objetos de acordo com a distância do centro de projeção. Os efeitos de mudança de tamanho estão relacionados à percepção de profundidade do sistema visual humano. Portanto, a forma dos objetos não é preservada.\n"
   ]
  },
  {
   "cell_type": "markdown",
   "metadata": {},
   "source": [
    "## Questão 22\n",
    "\n",
    "As coordenadas homogêneas possuem a vantagem de simplificar e unificar cálculos em matrizes. Por exemplo, elas permitem: realizar operações de translação e rotação simultaneamente; representação de pontos no infinito (o que permite eliminar casos especiais e tornar os cálculos mais simples e uniformes)."
   ]
  },
  {
   "cell_type": "markdown",
   "metadata": {},
   "source": [
    "## Questão 23\n",
    "\n",
    "### Interpolação pelo vizinho mais próximo\n",
    "\n",
    "Na interpolação pelo vizinho mais próximo, o valor da intensidade a ser atribuido é o **mais próximo dentro de um grid**\n",
    "\n",
    "### Interpolação bilinear\n",
    "\n",
    "A interpolação bilinear utiliza uma média ponderada das disntâncias dos quatro pixels vizinhos mais próximos para determinar a intensidade de cada pixel a imagem transformada\n",
    "\n",
    "### Interpolação bicúbica\n",
    "\n",
    "Esta interpolação possui o mesmo princípio da interpolação bicúbica. Porém, ela utiliza uma vizinhança 4x4 para para esta tarefa."
   ]
  },
  {
   "cell_type": "code",
   "execution_count": null,
   "metadata": {
    "pycharm": {
     "is_executing": true
    }
   },
   "outputs": [],
   "source": []
  }
 ],
 "metadata": {
  "kernelspec": {
   "display_name": "Python 3 (ipykernel)",
   "language": "python",
   "name": "python3"
  },
  "language_info": {
   "codemirror_mode": {
    "name": "ipython",
    "version": 3
   },
   "file_extension": ".py",
   "mimetype": "text/x-python",
   "name": "python",
   "nbconvert_exporter": "python",
   "pygments_lexer": "ipython3",
   "version": "3.10.6"
  }
 },
 "nbformat": 4,
 "nbformat_minor": 1
}
