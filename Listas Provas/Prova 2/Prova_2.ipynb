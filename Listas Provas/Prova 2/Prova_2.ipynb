{
 "cells": [
  {
   "cell_type": "markdown",
   "source": [
    "# Lista de exercício para a prova 2\n",
    "\n",
    "Este _notebook_ contém a resolução da lista 2 para a prova 2"
   ],
   "metadata": {
    "collapsed": false
   }
  },
  {
   "cell_type": "markdown",
   "source": [
    "## Questão 1\n",
    "\n",
    "Abaixo, é possível visualizar a resposta\n",
    "\n",
    "![Imagem respsta p1](Resposta_1.jpg)"
   ],
   "metadata": {
    "collapsed": false
   }
  },
  {
   "cell_type": "markdown",
   "source": [
    "## Questão 2\n",
    "\n",
    "Sabemos que a represão _quadtree_ é muito sensível à **rotação e translação**. Dessa forma, podemos separar da seguinte forma a nossa resposta\n",
    "\n",
    "* Mudança de escala : Praticamente **a representação _quadtree_ continua a mesma**, mesmo que esteja sussetível à pequenas mudanças devido a perda de detalhamento da imagem.\n",
    "* Mudança de rotação e translação : A representação vai mudar completamente, pois a _quadree_ é muito sensível à esse tipo de mudança"
   ],
   "metadata": {
    "collapsed": false
   }
  },
  {
   "cell_type": "markdown",
   "source": [
    "## Questão 3\n",
    "\n",
    "#### Item A)\n",
    "\n",
    "Sabemos que a forma da entropia é descrita sendo\n",
    "\n",
    "$$\n",
    "E = \\sum_{i=o}^{n}p_{i}\\log_{2}{p_{i}}\n",
    "$$\n",
    "\n",
    "Dessa forma, temos que a entropia será\n",
    "\n",
    "![Resposta 2a](Resposta_2a.jpg)"
   ],
   "metadata": {
    "collapsed": false
   }
  },
  {
   "cell_type": "markdown",
   "source": [
    "### Item B)\n",
    "\n",
    "Temos que a representação utilizando a decodificação de _Huffman_ será da forma\n",
    "\n",
    "![Resposta 2a](Resposta_2b.jpg)\n"
   ],
   "metadata": {
    "collapsed": false
   }
  },
  {
   "cell_type": "markdown",
   "source": [
    "## Questão 4\n",
    "\n",
    "Abaixo, é possível visualizar duas formas\n",
    "\n",
    "![Resposta 3A](Resposta_3a.jpg)\n",
    "![Resposta 3B](Resposta_3b.jpg)"
   ],
   "metadata": {
    "collapsed": false
   }
  }
 ],
 "metadata": {
  "kernelspec": {
   "display_name": "Python 3",
   "language": "python",
   "name": "python3"
  },
  "language_info": {
   "codemirror_mode": {
    "name": "ipython",
    "version": 2
   },
   "file_extension": ".py",
   "mimetype": "text/x-python",
   "name": "python",
   "nbconvert_exporter": "python",
   "pygments_lexer": "ipython2",
   "version": "2.7.6"
  }
 },
 "nbformat": 4,
 "nbformat_minor": 0
}
